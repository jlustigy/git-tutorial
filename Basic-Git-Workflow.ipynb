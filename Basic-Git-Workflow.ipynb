{
 "cells": [
  {
   "cell_type": "markdown",
   "metadata": {},
   "source": [
    "# Basic Git Workflow  \n",
    "\n",
    "This notebook contains some of the most basic sets of git commands that are heavily used in code development situations to track file changes and collaborate with others via GitHub/BitBucket.\n",
    "\n",
    "**Add/Commit/Push new files and changed files to remote file tracking**\n",
    "\n",
    "```bash\n",
    "# Add the files in this repository to git tracking\n",
    "git add .\n",
    "\n",
    "# Commit the added files\n",
    "git commit -am \"brief message explaining changes\"\n",
    "\n",
    "# Push the changes to remote repository on GitHub/BitBucket \n",
    "git push origin master\n",
    "```\n",
    "\n",
    "**Pull updates from remote repository into local repo**\n",
    "\n",
    "```bash\n",
    "# Pull changes\n",
    "git pull origin master\n",
    "```\n",
    "\n",
    "**Create a new branch for developing a specific feature**\n",
    "```bash\n",
    "# Create a new branch called \"new_branch\" and switch to it\n",
    "git checkout -b new_branch\n",
    "\n",
    "# Make changes to files\n",
    "...\n",
    "\n",
    "# Git add/commit\n",
    "git add .\n",
    "git commit -am \"new feature updates\"\n",
    "\n",
    "# Push to new branch on remote \n",
    "git push -u origin new_branch\n",
    "```\n",
    "\n",
    "**Switch to a branch that someone else created on remote** \n",
    "```bash\n",
    "# Fetch remote branches (but does not switch)\n",
    "git fetch\n",
    "\n",
    "# Switch to branch\n",
    "git checkout whatever_its_called\n",
    "\n",
    "# Switch back to master\n",
    "git checkout master\n",
    "```\n"
   ]
  },
  {
   "cell_type": "code",
   "execution_count": null,
   "metadata": {},
   "outputs": [],
   "source": []
  }
 ],
 "metadata": {
  "kernelspec": {
   "display_name": "Python 3",
   "language": "python",
   "name": "python3"
  },
  "language_info": {
   "codemirror_mode": {
    "name": "ipython",
    "version": 3
   },
   "file_extension": ".py",
   "mimetype": "text/x-python",
   "name": "python",
   "nbconvert_exporter": "python",
   "pygments_lexer": "ipython3",
   "version": "3.6.8"
  }
 },
 "nbformat": 4,
 "nbformat_minor": 2
}
